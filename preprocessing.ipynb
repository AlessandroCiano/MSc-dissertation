{
 "cells": [
  {
   "cell_type": "code",
   "execution_count": 114,
   "metadata": {},
   "outputs": [
    {
     "name": "stderr",
     "output_type": "stream",
     "text": [
      "[nltk_data] Downloading package punkt_tab to\n",
      "[nltk_data]     /home/noxiusk/nltk_data...\n",
      "[nltk_data]   Package punkt_tab is already up-to-date!\n"
     ]
    }
   ],
   "source": [
    "import pandas as pd\n",
    "import nltk\n",
    "from nltk.tokenize import word_tokenize\n",
    "\n",
    "# Download punkt_tab if needed.\n",
    "try:\n",
    "    nltk.data.find('tokenizers/punkt_tab/english/pickle')\n",
    "except LookupError:\n",
    "    nltk.download('punkt_tab')"
   ]
  },
  {
   "cell_type": "code",
   "execution_count": 115,
   "metadata": {},
   "outputs": [],
   "source": [
    "import pandas as pd\n",
    "from collections import defaultdict\n",
    "import csv\n",
    "\n",
    "def escape_and_flatten_text(text):\n",
    "    if not isinstance(text, str):\n",
    "        return text\n",
    "    text = text.replace('\"', '\"\"')             # Escape double quotes\n",
    "    text = text.replace('\\n', ' ').replace('\\r', ' ')  # Flatten newlines\n",
    "    return f'\"{text}\"'                          # Wrap in quotes\n",
    "\n",
    "def write_custom_csv(df, filepath, quote_columns):\n",
    "    with open(filepath, 'w', encoding='utf-8', newline='') as f:\n",
    "        # Header\n",
    "        f.write(','.join(df.columns) + '\\n')\n",
    "        \n",
    "        for _, row in df.iterrows():\n",
    "            row_data = []\n",
    "            for col in df.columns:\n",
    "                val = row[col]\n",
    "                if col in quote_columns:\n",
    "                    val = escape_and_flatten_text(val)\n",
    "                else:\n",
    "                    val = str(val)\n",
    "                row_data.append(val)\n",
    "            f.write(','.join(row_data) + '\\n')\n"
   ]
  },
  {
   "cell_type": "code",
   "execution_count": 116,
   "metadata": {},
   "outputs": [],
   "source": [
    "def process_train_labeled_file(file_path, labeled=True, name='processed_posts.csv'):\n",
    "    # Read the Excel file\n",
    "    df = pd.read_excel(file_path)\n",
    "    # Store [title] and [suicide risk label] for each row as a dictionary\n",
    "    user_data = []\n",
    "    new_user_data = []\n",
    "\n",
    "    idx = None\n",
    "    text = None\n",
    "    label = None\n",
    "    for _, row in df.iterrows():\n",
    "        idx = row['Unnamed: 0'] if not pd.isna(row['Unnamed: 0']) else idx\n",
    "        text = row['title'] \n",
    "        if labeled:\n",
    "            label = row['suicide risk label'] if not pd.isna(row['Unnamed: 0']) else label\n",
    "            user_data.append({'idx': int(idx), 'text': text, 'label': label})\n",
    "        else:\n",
    "            user_data.append({'idx': int(idx), 'text': text})\n",
    "\n",
    "\n",
    "    # Group by idx and concatenate texts\n",
    "    grouped_texts = defaultdict(list)\n",
    "    labels = {}\n",
    "\n",
    "    for entry in user_data:\n",
    "        i = entry['idx']\n",
    "        grouped_texts[i].append(entry['text'])\n",
    "        if labeled == True:\n",
    "            labels[i] = entry['label']\n",
    "\n",
    "    for i in sorted(grouped_texts.keys()):\n",
    "        concatenated_text = \" \".join(grouped_texts[i])\n",
    "        if labeled == True:\n",
    "            new_user_data.append({'index': i, 'post': concatenated_text, 'post_risk': labels[i]})\n",
    "        else:\n",
    "            new_user_data.append({'index': i, 'post': concatenated_text})\n",
    "\n",
    "    output_df = pd.DataFrame(new_user_data)\n",
    "    #output_df.to_csv(name, index=False)\n",
    "    write_custom_csv(output_df, name, quote_columns=['post'])\n",
    "\n",
    "    print(\"CSV file 'processed_posts.csv' has been creaeted.\")"
   ]
  },
  {
   "cell_type": "code",
   "execution_count": 117,
   "metadata": {},
   "outputs": [
    {
     "name": "stdout",
     "output_type": "stream",
     "text": [
      "CSV file 'processed_posts.csv' has been creaeted.\n"
     ]
    }
   ],
   "source": [
    "file_path = \"Dataset(post_level).xlsx\"\n",
    "\n",
    "process_train_labeled_file(file_path, labeled=True, name=\"posts_with_labels.csv\")"
   ]
  },
  {
   "cell_type": "code",
   "execution_count": 118,
   "metadata": {},
   "outputs": [],
   "source": [
    "def process_test_labeled_file(file_path, labeled=True, name='posts_with_labels.csv'):\n",
    "    # Read the Excel file\n",
    "    df = pd.read_excel(file_path)\n",
    "    # Store [title] and [suicide risk label] for each row as a dictionary\n",
    "    user_data = []\n",
    "    new_user_data = []\n",
    "\n",
    "    idx = None\n",
    "    text = None\n",
    "    label = None\n",
    "    for _, row in df.iterrows():\n",
    "        idx = row['Unnamed: 0']\n",
    "        text = row['post']\n",
    "        if labeled:\n",
    "            label = row['post risk']\n",
    "            user_data.append({'idx': int(idx), 'post': text, 'post_risk': label})\n",
    "        else:\n",
    "            user_data.append({'idx': int(idx), 'post': text})\n",
    "\n",
    "    output_df = pd.DataFrame(user_data)\n",
    "    #output_df.to_csv(name, index=False, quoting=1)\n",
    "    write_custom_csv(output_df, name, quote_columns=['post'])\n",
    "    \n",
    "\n",
    "    print(\"CSV file 'processed_posts.csv' has been created.\")"
   ]
  },
  {
   "cell_type": "code",
   "execution_count": 119,
   "metadata": {},
   "outputs": [
    {
     "name": "stdout",
     "output_type": "stream",
     "text": [
      "CSV file 'processed_posts.csv' has been created.\n"
     ]
    }
   ],
   "source": [
    "file_path = \"test_100_label_competition.xlsx\"\n",
    "process_test_labeled_file(file_path, labeled=True, name=\"posts_with_labels_test.csv\")"
   ]
  },
  {
   "cell_type": "code",
   "execution_count": 120,
   "metadata": {},
   "outputs": [],
   "source": [
    "def process_train_unlabeled_file(file_path, labeled=True, name='posts_with_labels.csv'):\n",
    "    # Read the Excel file\n",
    "    df = pd.read_excel(file_path)\n",
    "    # Store [title] and [suicide risk label] for each row as a dictionary\n",
    "    user_data = []\n",
    "    new_user_data = []\n",
    "\n",
    "    idx = None\n",
    "    text = None\n",
    "    label = None\n",
    "    for _, row in df.iterrows():\n",
    "        idx = row['index']\n",
    "        text = row['post']\n",
    "        if labeled:\n",
    "            label = row['post risk']\n",
    "            user_data.append({'idx': int(idx), 'post': text, 'post_risk': label})\n",
    "        else:\n",
    "            user_data.append({'idx': int(idx), 'post': text})\n",
    "\n",
    "    output_df = pd.DataFrame(user_data)\n",
    "    #output_df.to_csv(name, index=False, quoting=1)\n",
    "    write_custom_csv(output_df, name, quote_columns=['post'])\n",
    "    \n",
    "\n",
    "    print(\"CSV file 'processed_posts.csv' has been created.\")"
   ]
  },
  {
   "cell_type": "code",
   "execution_count": 121,
   "metadata": {},
   "outputs": [
    {
     "name": "stdout",
     "output_type": "stream",
     "text": [
      "CSV file 'processed_posts.csv' has been created.\n"
     ]
    }
   ],
   "source": [
    "file_path = \"1500_competition.xlsx\"\n",
    "process_train_unlabeled_file(file_path, labeled=False, name=\"posts_without_labels_train.csv\")"
   ]
  }
 ],
 "metadata": {
  "kernelspec": {
   "display_name": "pytorch_gpu_env",
   "language": "python",
   "name": "python3"
  },
  "language_info": {
   "codemirror_mode": {
    "name": "ipython",
    "version": 3
   },
   "file_extension": ".py",
   "mimetype": "text/x-python",
   "name": "python",
   "nbconvert_exporter": "python",
   "pygments_lexer": "ipython3",
   "version": "3.12.3"
  }
 },
 "nbformat": 4,
 "nbformat_minor": 2
}
