{
 "cells": [
  {
   "cell_type": "code",
   "execution_count": null,
   "id": "adc571fc",
   "metadata": {},
   "outputs": [
    {
     "name": "stderr",
     "output_type": "stream",
     "text": [
      "<>:43: SyntaxWarning: invalid escape sequence '\\p'\n",
      "<>:44: SyntaxWarning: invalid escape sequence '\\p'\n",
      "<>:43: SyntaxWarning: invalid escape sequence '\\p'\n",
      "<>:44: SyntaxWarning: invalid escape sequence '\\p'\n",
      "/tmp/ipykernel_6415/2794683323.py:43: SyntaxWarning: invalid escape sequence '\\p'\n",
      "  print(f\"Average Accuracy: {accuracy_mean*100:.2f} \\pm {std_accuracy*100:.2f}\")\n",
      "/tmp/ipykernel_6415/2794683323.py:44: SyntaxWarning: invalid escape sequence '\\p'\n",
      "  print(f\"Average F1: {f1_mean*100:.2f} \\pm {std_f1*100:.2f}\")\n"
     ]
    }
   ],
   "source": [
    "import pandas as pd\n",
    "import os\n",
    "\n",
    "def read_print_metrics(path=r'/home/noxiusk/Desktop/data_science/dissertation/main/K-fold/large-cross-entropy--1e-4/metrics/roberta-large_kfold_summary_metrics.csv'):\n",
    "    df = pd.read_csv(path)\n",
    "    #exclude the raws that have metric_type different than 'averaged_per_epoch'\n",
    "    df = df[df['metric_type'] == 'averaged_per_epoch']\n",
    "    #find index with max value in avg_eval_f1_weighted\n",
    "    best_index = df['avg_eval_f1_weighted'].idxmax()\n",
    "\n",
    "    accuracy = []\n",
    "    f1 = []\n",
    "    std_accuracy = 0\n",
    "    std_f1 = 0\n",
    "    \n",
    "    for i in range(1, 6):\n",
    "        #get the folder containing the \"path\"\n",
    "        folder_path = os.path.dirname(path)\n",
    "        #load roberta-base_metrics_fold_i.csv and store in a vector (for best_row variable) accuracy and f1, then calculate std\n",
    "        fold_path = os.path.join(folder_path, f'roberta-large_metrics_fold_{i}.csv')\n",
    "        if not os.path.exists(fold_path):\n",
    "            fold_path = os.path.join(folder_path, f'roberta-large_softf1_metrics_fold_{i}.csv')\n",
    "            if not os.path.exists(fold_path):\n",
    "                fold_path = os.path.join(folder_path, f'roberta-base_metrics_fold_{i}.csv')\n",
    "                if not os.path.exists(fold_path):\n",
    "                    fold_path = os.path.join(folder_path, f'roberta-base_ordinal_metrics_fold_{i}.csv')\n",
    "                    if not os.path.exists(fold_path):\n",
    "                        fold_path = os.path.join(folder_path, f'roberta-base_softf1_metrics_fold_{i}.csv')\n",
    "                        if not os.path.exists(fold_path):\n",
    "                            fold_path = os.path.join(folder_path, f'roberta-large_ordinal_metrics_fold_{i}.csv')\n",
    "\n",
    "\n",
    "            \n",
    "        fold_df = pd.read_csv(fold_path)\n",
    "        #append accuracy corresponding to the best_index\n",
    "        best_row = fold_df.iloc[best_index]\n",
    "        accuracy.append(best_row['eval_accuracy'])\n",
    "        f1.append(best_row['eval_f1_weighted'])\n",
    "\n",
    "    #calculate the standard deviation of accuracy and f1\n",
    "    accuracy_mean = pd.Series(accuracy).mean()\n",
    "    f1_mean = pd.Series(f1).mean()\n",
    "    std_accuracy = pd.Series(accuracy).std()\n",
    "    std_f1 = pd.Series(f1).std()\n",
    "        \n",
    "    print(f\"Average Accuracy: {accuracy_mean*100:.2f} \\pm {std_accuracy*100:.2f}\")\n",
    "    print(f\"Average F1: {f1_mean*100:.2f} \\pm {std_f1*100:.2f}\")\n",
    "    \n",
    "    #get accuracy and weighted f1 for the best row, using best_index\n",
    "    best_row = df.iloc[best_index]\n",
    "    print(f\"Best Epoch: {best_row['epoch']}\")"
   ]
  },
  {
   "cell_type": "code",
   "execution_count": 3,
   "id": "d9f66ef5",
   "metadata": {},
   "outputs": [
    {
     "name": "stdout",
     "output_type": "stream",
     "text": [
      "Average Accuracy: 70.60 \\pm 2.88\n",
      "Average F1: 70.12 \\pm 3.15\n",
      "Best Epoch: 25.0\n"
     ]
    }
   ],
   "source": [
    "read_print_metrics(path=r'/home/noxiusk/Desktop/data_science/dissertation/main/K-fold/large-cross-entropy--1e-4/metrics/roberta-large_kfold_summary_metrics.csv')"
   ]
  },
  {
   "cell_type": "code",
   "execution_count": 4,
   "id": "9fa964db",
   "metadata": {},
   "outputs": [
    {
     "name": "stdout",
     "output_type": "stream",
     "text": [
      "Average Accuracy: 71.80 \\pm 4.87\n",
      "Average F1: 71.00 \\pm 5.15\n",
      "Best Epoch: 77.0\n"
     ]
    }
   ],
   "source": [
    "read_print_metrics(r'/home/noxiusk/Desktop/data_science/dissertation/main/K-fold/large-cross-entropy--5e-5/metrics/roberta-large_kfold_summary_metrics.csv')"
   ]
  },
  {
   "cell_type": "code",
   "execution_count": 5,
   "id": "5cfe40ac",
   "metadata": {},
   "outputs": [
    {
     "name": "stderr",
     "output_type": "stream",
     "text": [
      "/tmp/ipykernel_6415/2794683323.py:43: SyntaxWarning: invalid escape sequence '\\p'\n",
      "  print(f\"Average Accuracy: {accuracy_mean*100:.2f} \\pm {std_accuracy*100:.2f}\")\n",
      "/tmp/ipykernel_6415/2794683323.py:44: SyntaxWarning: invalid escape sequence '\\p'\n",
      "  print(f\"Average F1: {f1_mean*100:.2f} \\pm {std_f1*100:.2f}\")\n"
     ]
    },
    {
     "ename": "FileNotFoundError",
     "evalue": "[Errno 2] No such file or directory: '/home/noxiusk/Desktop/data_science/dissertation/main/K-fold/large-ordinal--5e-5/metrics/roberta-base_softf1_metrics_fold_1.csv'",
     "output_type": "error",
     "traceback": [
      "\u001b[0;31m---------------------------------------------------------------------------\u001b[0m",
      "\u001b[0;31mFileNotFoundError\u001b[0m                         Traceback (most recent call last)",
      "Cell \u001b[0;32mIn[5], line 1\u001b[0m\n\u001b[0;32m----> 1\u001b[0m read_print_metrics(\u001b[38;5;124mr\u001b[39m\u001b[38;5;124m'\u001b[39m\u001b[38;5;124m/home/noxiusk/Desktop/data_science/dissertation/main/K-fold/large-ordinal--5e-5/metrics/roberta-large_kfold_summary_metrics.csv\u001b[39m\u001b[38;5;124m'\u001b[39m)\n",
      "Cell \u001b[0;32mIn[2], line 31\u001b[0m, in \u001b[0;36mread_print_metrics\u001b[0;34m(path)\u001b[0m\n\u001b[1;32m     27\u001b[0m             \u001b[38;5;28;01mif\u001b[39;00m \u001b[38;5;129;01mnot\u001b[39;00m os\u001b[38;5;241m.\u001b[39mpath\u001b[38;5;241m.\u001b[39mexists(fold_path):\n\u001b[1;32m     28\u001b[0m                 fold_path \u001b[38;5;241m=\u001b[39m os\u001b[38;5;241m.\u001b[39mpath\u001b[38;5;241m.\u001b[39mjoin(folder_path, \u001b[38;5;124mf\u001b[39m\u001b[38;5;124m'\u001b[39m\u001b[38;5;124mroberta-base_softf1_metrics_fold_\u001b[39m\u001b[38;5;132;01m{\u001b[39;00mi\u001b[38;5;132;01m}\u001b[39;00m\u001b[38;5;124m.csv\u001b[39m\u001b[38;5;124m'\u001b[39m)\n\u001b[0;32m---> 31\u001b[0m fold_df \u001b[38;5;241m=\u001b[39m pd\u001b[38;5;241m.\u001b[39mread_csv(fold_path)\n\u001b[1;32m     32\u001b[0m \u001b[38;5;66;03m#append accuracy corresponding to the best_index\u001b[39;00m\n\u001b[1;32m     33\u001b[0m best_row \u001b[38;5;241m=\u001b[39m fold_df\u001b[38;5;241m.\u001b[39miloc[best_index]\n",
      "File \u001b[0;32m~/miniconda3/envs/mlp/lib/python3.12/site-packages/pandas/io/parsers/readers.py:1026\u001b[0m, in \u001b[0;36mread_csv\u001b[0;34m(filepath_or_buffer, sep, delimiter, header, names, index_col, usecols, dtype, engine, converters, true_values, false_values, skipinitialspace, skiprows, skipfooter, nrows, na_values, keep_default_na, na_filter, verbose, skip_blank_lines, parse_dates, infer_datetime_format, keep_date_col, date_parser, date_format, dayfirst, cache_dates, iterator, chunksize, compression, thousands, decimal, lineterminator, quotechar, quoting, doublequote, escapechar, comment, encoding, encoding_errors, dialect, on_bad_lines, delim_whitespace, low_memory, memory_map, float_precision, storage_options, dtype_backend)\u001b[0m\n\u001b[1;32m   1013\u001b[0m kwds_defaults \u001b[38;5;241m=\u001b[39m _refine_defaults_read(\n\u001b[1;32m   1014\u001b[0m     dialect,\n\u001b[1;32m   1015\u001b[0m     delimiter,\n\u001b[0;32m   (...)\u001b[0m\n\u001b[1;32m   1022\u001b[0m     dtype_backend\u001b[38;5;241m=\u001b[39mdtype_backend,\n\u001b[1;32m   1023\u001b[0m )\n\u001b[1;32m   1024\u001b[0m kwds\u001b[38;5;241m.\u001b[39mupdate(kwds_defaults)\n\u001b[0;32m-> 1026\u001b[0m \u001b[38;5;28;01mreturn\u001b[39;00m _read(filepath_or_buffer, kwds)\n",
      "File \u001b[0;32m~/miniconda3/envs/mlp/lib/python3.12/site-packages/pandas/io/parsers/readers.py:620\u001b[0m, in \u001b[0;36m_read\u001b[0;34m(filepath_or_buffer, kwds)\u001b[0m\n\u001b[1;32m    617\u001b[0m _validate_names(kwds\u001b[38;5;241m.\u001b[39mget(\u001b[38;5;124m\"\u001b[39m\u001b[38;5;124mnames\u001b[39m\u001b[38;5;124m\"\u001b[39m, \u001b[38;5;28;01mNone\u001b[39;00m))\n\u001b[1;32m    619\u001b[0m \u001b[38;5;66;03m# Create the parser.\u001b[39;00m\n\u001b[0;32m--> 620\u001b[0m parser \u001b[38;5;241m=\u001b[39m TextFileReader(filepath_or_buffer, \u001b[38;5;241m*\u001b[39m\u001b[38;5;241m*\u001b[39mkwds)\n\u001b[1;32m    622\u001b[0m \u001b[38;5;28;01mif\u001b[39;00m chunksize \u001b[38;5;129;01mor\u001b[39;00m iterator:\n\u001b[1;32m    623\u001b[0m     \u001b[38;5;28;01mreturn\u001b[39;00m parser\n",
      "File \u001b[0;32m~/miniconda3/envs/mlp/lib/python3.12/site-packages/pandas/io/parsers/readers.py:1620\u001b[0m, in \u001b[0;36mTextFileReader.__init__\u001b[0;34m(self, f, engine, **kwds)\u001b[0m\n\u001b[1;32m   1617\u001b[0m     \u001b[38;5;28mself\u001b[39m\u001b[38;5;241m.\u001b[39moptions[\u001b[38;5;124m\"\u001b[39m\u001b[38;5;124mhas_index_names\u001b[39m\u001b[38;5;124m\"\u001b[39m] \u001b[38;5;241m=\u001b[39m kwds[\u001b[38;5;124m\"\u001b[39m\u001b[38;5;124mhas_index_names\u001b[39m\u001b[38;5;124m\"\u001b[39m]\n\u001b[1;32m   1619\u001b[0m \u001b[38;5;28mself\u001b[39m\u001b[38;5;241m.\u001b[39mhandles: IOHandles \u001b[38;5;241m|\u001b[39m \u001b[38;5;28;01mNone\u001b[39;00m \u001b[38;5;241m=\u001b[39m \u001b[38;5;28;01mNone\u001b[39;00m\n\u001b[0;32m-> 1620\u001b[0m \u001b[38;5;28mself\u001b[39m\u001b[38;5;241m.\u001b[39m_engine \u001b[38;5;241m=\u001b[39m \u001b[38;5;28mself\u001b[39m\u001b[38;5;241m.\u001b[39m_make_engine(f, \u001b[38;5;28mself\u001b[39m\u001b[38;5;241m.\u001b[39mengine)\n",
      "File \u001b[0;32m~/miniconda3/envs/mlp/lib/python3.12/site-packages/pandas/io/parsers/readers.py:1880\u001b[0m, in \u001b[0;36mTextFileReader._make_engine\u001b[0;34m(self, f, engine)\u001b[0m\n\u001b[1;32m   1878\u001b[0m     \u001b[38;5;28;01mif\u001b[39;00m \u001b[38;5;124m\"\u001b[39m\u001b[38;5;124mb\u001b[39m\u001b[38;5;124m\"\u001b[39m \u001b[38;5;129;01mnot\u001b[39;00m \u001b[38;5;129;01min\u001b[39;00m mode:\n\u001b[1;32m   1879\u001b[0m         mode \u001b[38;5;241m+\u001b[39m\u001b[38;5;241m=\u001b[39m \u001b[38;5;124m\"\u001b[39m\u001b[38;5;124mb\u001b[39m\u001b[38;5;124m\"\u001b[39m\n\u001b[0;32m-> 1880\u001b[0m \u001b[38;5;28mself\u001b[39m\u001b[38;5;241m.\u001b[39mhandles \u001b[38;5;241m=\u001b[39m get_handle(\n\u001b[1;32m   1881\u001b[0m     f,\n\u001b[1;32m   1882\u001b[0m     mode,\n\u001b[1;32m   1883\u001b[0m     encoding\u001b[38;5;241m=\u001b[39m\u001b[38;5;28mself\u001b[39m\u001b[38;5;241m.\u001b[39moptions\u001b[38;5;241m.\u001b[39mget(\u001b[38;5;124m\"\u001b[39m\u001b[38;5;124mencoding\u001b[39m\u001b[38;5;124m\"\u001b[39m, \u001b[38;5;28;01mNone\u001b[39;00m),\n\u001b[1;32m   1884\u001b[0m     compression\u001b[38;5;241m=\u001b[39m\u001b[38;5;28mself\u001b[39m\u001b[38;5;241m.\u001b[39moptions\u001b[38;5;241m.\u001b[39mget(\u001b[38;5;124m\"\u001b[39m\u001b[38;5;124mcompression\u001b[39m\u001b[38;5;124m\"\u001b[39m, \u001b[38;5;28;01mNone\u001b[39;00m),\n\u001b[1;32m   1885\u001b[0m     memory_map\u001b[38;5;241m=\u001b[39m\u001b[38;5;28mself\u001b[39m\u001b[38;5;241m.\u001b[39moptions\u001b[38;5;241m.\u001b[39mget(\u001b[38;5;124m\"\u001b[39m\u001b[38;5;124mmemory_map\u001b[39m\u001b[38;5;124m\"\u001b[39m, \u001b[38;5;28;01mFalse\u001b[39;00m),\n\u001b[1;32m   1886\u001b[0m     is_text\u001b[38;5;241m=\u001b[39mis_text,\n\u001b[1;32m   1887\u001b[0m     errors\u001b[38;5;241m=\u001b[39m\u001b[38;5;28mself\u001b[39m\u001b[38;5;241m.\u001b[39moptions\u001b[38;5;241m.\u001b[39mget(\u001b[38;5;124m\"\u001b[39m\u001b[38;5;124mencoding_errors\u001b[39m\u001b[38;5;124m\"\u001b[39m, \u001b[38;5;124m\"\u001b[39m\u001b[38;5;124mstrict\u001b[39m\u001b[38;5;124m\"\u001b[39m),\n\u001b[1;32m   1888\u001b[0m     storage_options\u001b[38;5;241m=\u001b[39m\u001b[38;5;28mself\u001b[39m\u001b[38;5;241m.\u001b[39moptions\u001b[38;5;241m.\u001b[39mget(\u001b[38;5;124m\"\u001b[39m\u001b[38;5;124mstorage_options\u001b[39m\u001b[38;5;124m\"\u001b[39m, \u001b[38;5;28;01mNone\u001b[39;00m),\n\u001b[1;32m   1889\u001b[0m )\n\u001b[1;32m   1890\u001b[0m \u001b[38;5;28;01massert\u001b[39;00m \u001b[38;5;28mself\u001b[39m\u001b[38;5;241m.\u001b[39mhandles \u001b[38;5;129;01mis\u001b[39;00m \u001b[38;5;129;01mnot\u001b[39;00m \u001b[38;5;28;01mNone\u001b[39;00m\n\u001b[1;32m   1891\u001b[0m f \u001b[38;5;241m=\u001b[39m \u001b[38;5;28mself\u001b[39m\u001b[38;5;241m.\u001b[39mhandles\u001b[38;5;241m.\u001b[39mhandle\n",
      "File \u001b[0;32m~/miniconda3/envs/mlp/lib/python3.12/site-packages/pandas/io/common.py:873\u001b[0m, in \u001b[0;36mget_handle\u001b[0;34m(path_or_buf, mode, encoding, compression, memory_map, is_text, errors, storage_options)\u001b[0m\n\u001b[1;32m    868\u001b[0m \u001b[38;5;28;01melif\u001b[39;00m \u001b[38;5;28misinstance\u001b[39m(handle, \u001b[38;5;28mstr\u001b[39m):\n\u001b[1;32m    869\u001b[0m     \u001b[38;5;66;03m# Check whether the filename is to be opened in binary mode.\u001b[39;00m\n\u001b[1;32m    870\u001b[0m     \u001b[38;5;66;03m# Binary mode does not support 'encoding' and 'newline'.\u001b[39;00m\n\u001b[1;32m    871\u001b[0m     \u001b[38;5;28;01mif\u001b[39;00m ioargs\u001b[38;5;241m.\u001b[39mencoding \u001b[38;5;129;01mand\u001b[39;00m \u001b[38;5;124m\"\u001b[39m\u001b[38;5;124mb\u001b[39m\u001b[38;5;124m\"\u001b[39m \u001b[38;5;129;01mnot\u001b[39;00m \u001b[38;5;129;01min\u001b[39;00m ioargs\u001b[38;5;241m.\u001b[39mmode:\n\u001b[1;32m    872\u001b[0m         \u001b[38;5;66;03m# Encoding\u001b[39;00m\n\u001b[0;32m--> 873\u001b[0m         handle \u001b[38;5;241m=\u001b[39m \u001b[38;5;28mopen\u001b[39m(\n\u001b[1;32m    874\u001b[0m             handle,\n\u001b[1;32m    875\u001b[0m             ioargs\u001b[38;5;241m.\u001b[39mmode,\n\u001b[1;32m    876\u001b[0m             encoding\u001b[38;5;241m=\u001b[39mioargs\u001b[38;5;241m.\u001b[39mencoding,\n\u001b[1;32m    877\u001b[0m             errors\u001b[38;5;241m=\u001b[39merrors,\n\u001b[1;32m    878\u001b[0m             newline\u001b[38;5;241m=\u001b[39m\u001b[38;5;124m\"\u001b[39m\u001b[38;5;124m\"\u001b[39m,\n\u001b[1;32m    879\u001b[0m         )\n\u001b[1;32m    880\u001b[0m     \u001b[38;5;28;01melse\u001b[39;00m:\n\u001b[1;32m    881\u001b[0m         \u001b[38;5;66;03m# Binary mode\u001b[39;00m\n\u001b[1;32m    882\u001b[0m         handle \u001b[38;5;241m=\u001b[39m \u001b[38;5;28mopen\u001b[39m(handle, ioargs\u001b[38;5;241m.\u001b[39mmode)\n",
      "\u001b[0;31mFileNotFoundError\u001b[0m: [Errno 2] No such file or directory: '/home/noxiusk/Desktop/data_science/dissertation/main/K-fold/large-ordinal--5e-5/metrics/roberta-base_softf1_metrics_fold_1.csv'"
     ]
    }
   ],
   "source": [
    "read_print_metrics(r'/home/noxiusk/Desktop/data_science/dissertation/main/K-fold/large-ordinal--5e-5/metrics/roberta-large_kfold_summary_metrics.csv')"
   ]
  },
  {
   "cell_type": "code",
   "execution_count": null,
   "id": "46d1bff5",
   "metadata": {},
   "outputs": [
    {
     "name": "stdout",
     "output_type": "stream",
     "text": [
      "Average Accuracy: 69.40 \\pm 4.16\n",
      "Average F1: 68.65 \\pm 4.47\n",
      "Best Epoch: 90.0\n"
     ]
    }
   ],
   "source": [
    "read_print_metrics(r'/home/noxiusk/Desktop/data_science/dissertation/main/K-fold/large-soft_f1--5e-5/metrics/roberta-large_softf1_kfold_summary_metrics.csv')"
   ]
  },
  {
   "cell_type": "markdown",
   "id": "5f024ac9",
   "metadata": {},
   "source": [
    "*****SMALL*****"
   ]
  },
  {
   "cell_type": "code",
   "execution_count": null,
   "id": "b7525640",
   "metadata": {},
   "outputs": [
    {
     "name": "stdout",
     "output_type": "stream",
     "text": [
      "Average Accuracy: 65.80 \\pm 2.68\n",
      "Average F1: 64.54 \\pm 2.37\n",
      "Best Epoch: 15.0\n"
     ]
    }
   ],
   "source": [
    "read_print_metrics(path=r'/home/noxiusk/Desktop/data_science/dissertation/main/K-fold/cross-entropy--5e-5/metrics/roberta-base_kfold_summary_metrics.csv')"
   ]
  },
  {
   "cell_type": "code",
   "execution_count": null,
   "id": "1b9dedb3",
   "metadata": {},
   "outputs": [
    {
     "name": "stdout",
     "output_type": "stream",
     "text": [
      "Average Accuracy: 64.00 \\pm 3.94\n",
      "Average F1: 62.37 \\pm 4.73\n",
      "Best Epoch: 14.0\n"
     ]
    }
   ],
   "source": [
    "read_print_metrics(path=r'/home/noxiusk/Desktop/data_science/dissertation/main/K-fold/ordinal--5e-5/metrics/roberta-base_kfold_summary_metrics.csv')"
   ]
  },
  {
   "cell_type": "code",
   "execution_count": null,
   "id": "80c775be",
   "metadata": {},
   "outputs": [
    {
     "name": "stdout",
     "output_type": "stream",
     "text": [
      "Average Accuracy: 64.00 \\pm 5.15\n",
      "Average F1: 63.12 \\pm 5.65\n",
      "Best Epoch: 63.0\n"
     ]
    }
   ],
   "source": [
    "read_print_metrics(path=r'/home/noxiusk/Desktop/data_science/dissertation/main/K-fold/soft_f1--5e-5/metrics/roberta-base_softf1_kfold_summary_metrics.csv')"
   ]
  }
 ],
 "metadata": {
  "kernelspec": {
   "display_name": "mlp",
   "language": "python",
   "name": "python3"
  },
  "language_info": {
   "codemirror_mode": {
    "name": "ipython",
    "version": 3
   },
   "file_extension": ".py",
   "mimetype": "text/x-python",
   "name": "python",
   "nbconvert_exporter": "python",
   "pygments_lexer": "ipython3",
   "version": "3.12.5"
  }
 },
 "nbformat": 4,
 "nbformat_minor": 5
}
