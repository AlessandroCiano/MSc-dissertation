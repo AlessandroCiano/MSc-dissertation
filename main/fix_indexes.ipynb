{
 "cells": [
  {
   "cell_type": "code",
   "execution_count": 4,
   "id": "59780b9c",
   "metadata": {},
   "outputs": [
    {
     "name": "stdout",
     "output_type": "stream",
     "text": [
      "Shifting index to start from 500...\n",
      "Index successfully shifted. New range: 500-1998\n"
     ]
    }
   ],
   "source": [
    "import pandas as pd\n",
    "import os\n",
    "\n",
    "# Define the path to the data file. Assuming a .csv extension.\n",
    "file_path = r'F:\\VERO UTENTE\\Desktop\\Uni\\dissertation\\main\\K-fold\\large-cross-entropy--5e-5\\data_fold5\\FIRST\\FIRST_pseudol_fold5.csv'\n",
    "\n",
    "# Create the directory if it doesn't exist, to avoid errors on first run.\n",
    "os.makedirs(os.path.dirname(file_path), exist_ok=True)\n",
    "\n",
    "# Check if the file exists before trying to read it.\n",
    "if os.path.exists(file_path):\n",
    "    # Load the CSV, treating the first column as the index.\n",
    "    df = pd.read_csv(file_path, index_col=0)\n",
    "    \n",
    "    # Check if the index needs to be shifted (i.e., if it starts below 500).\n",
    "    if not df.empty and df.index.min() < 500:\n",
    "        print(\"Shifting index to start from 500...\")\n",
    "        # Add 500 to the entire index.\n",
    "        df.index = df.index + 500\n",
    "        \n",
    "        # Save the modified DataFrame back to the same file.\n",
    "        df.to_csv(file_path)\n",
    "        print(f\"Index successfully shifted. New range: {df.index.min()}-{df.index.max()}\")\n",
    "    else:\n",
    "        print(\"Index shift not required or file is empty.\")\n",
    "else:\n",
    "    print(f\"File not found at '{file_path}'. A new file will be created if you save data to this path.\")\n"
   ]
  },
  {
   "cell_type": "code",
   "execution_count": 13,
   "id": "c66b9508",
   "metadata": {},
   "outputs": [
    {
     "name": "stderr",
     "output_type": "stream",
     "text": [
      "<>:5: SyntaxWarning: invalid escape sequence '\\G'\n",
      "<>:5: SyntaxWarning: invalid escape sequence '\\G'\n",
      "C:\\Users\\Alessandro\\AppData\\Local\\Temp\\ipykernel_12204\\2617716521.py:5: SyntaxWarning: invalid escape sequence '\\G'\n",
      "  file_path = 'NO-fold\\Grok/thinking\\predictions\\grok-3-mini-latest_calculators_predictions-temp=0.4.csv'\n"
     ]
    },
    {
     "name": "stdout",
     "output_type": "stream",
     "text": [
      "Shifting index to start from 500...\n",
      "Index successfully shifted. New range: 500-1998\n"
     ]
    }
   ],
   "source": [
    "import pandas as pd\n",
    "import os\n",
    "\n",
    "# Define the path to the data file. Assuming a .csv extension.\n",
    "file_path = 'NO-fold\\Grok/thinking\\predictions\\grok-3-mini-latest_calculators_predictions-temp=0.4.csv'\n",
    "\n",
    "# Create the directory if it doesn't exist, to avoid errors on first run.\n",
    "os.makedirs(os.path.dirname(file_path), exist_ok=True)\n",
    "\n",
    "# Check if the file exists before trying to read it.\n",
    "if os.path.exists(file_path):\n",
    "    # Load the CSV, treating the first column as the index.\n",
    "    df = pd.read_csv(file_path, index_col=0)\n",
    "    \n",
    "    # Check if the index needs to be shifted (i.e., if it starts below 500).\n",
    "    if not df.empty and df.index.min() < 500:\n",
    "        print(\"Shifting index to start from 500...\")\n",
    "        # Add 500 to the entire index.\n",
    "        df.index = df.index + 500\n",
    "        \n",
    "        # Save the modified DataFrame back to the same file.\n",
    "        df.to_csv(file_path)\n",
    "        print(f\"Index successfully shifted. New range: {df.index.min()}-{df.index.max()}\")\n",
    "    else:\n",
    "        print(\"Index shift not required or file is empty.\")\n",
    "else:\n",
    "    print(f\"File not found at '{file_path}'. A new file will be created if you save data to this path.\")\n"
   ]
  }
 ],
 "metadata": {
  "kernelspec": {
   "display_name": "pytorch_gpu_env",
   "language": "python",
   "name": "python3"
  },
  "language_info": {
   "codemirror_mode": {
    "name": "ipython",
    "version": 3
   },
   "file_extension": ".py",
   "mimetype": "text/x-python",
   "name": "python",
   "nbconvert_exporter": "python",
   "pygments_lexer": "ipython3",
   "version": "3.12.3"
  }
 },
 "nbformat": 4,
 "nbformat_minor": 5
}
