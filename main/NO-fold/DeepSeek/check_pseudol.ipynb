{
 "cells": [
  {
   "cell_type": "code",
   "execution_count": 2,
   "id": "f90ee608",
   "metadata": {},
   "outputs": [
    {
     "name": "stdout",
     "output_type": "stream",
     "text": [
      "predicted_label\n",
      "indicator          0.434290\n",
      "ideation           0.325550\n",
      "behavior           0.166111\n",
      "attempt            0.073382\n",
      "LABEL_NOT_FOUND    0.000667\n",
      "Name: proportion, dtype: float64\n"
     ]
    }
   ],
   "source": [
    "import pandas as pd\n",
    "\n",
    "# Load the dataset\n",
    "df = pd.read_csv('thinking/predictions/deepseek-reasoner_calculators_ev_gemini_1.1_predictions-temp=0.5.csv')\n",
    "\n",
    "# Print class proportions\n",
    "proportions = df['predicted_label'].value_counts(normalize=True)\n",
    "print(proportions)"
   ]
  }
 ],
 "metadata": {
  "kernelspec": {
   "display_name": "pytorch_gpu_env",
   "language": "python",
   "name": "python3"
  },
  "language_info": {
   "codemirror_mode": {
    "name": "ipython",
    "version": 3
   },
   "file_extension": ".py",
   "mimetype": "text/x-python",
   "name": "python",
   "nbconvert_exporter": "python",
   "pygments_lexer": "ipython3",
   "version": "3.12.3"
  }
 },
 "nbformat": 4,
 "nbformat_minor": 5
}
