{
 "cells": [
  {
   "cell_type": "code",
   "execution_count": 2,
   "id": "f90ee608",
   "metadata": {},
   "outputs": [
    {
     "name": "stdout",
     "output_type": "stream",
     "text": [
      "predicted_label\n",
      "ideation     0.422949\n",
      "indicator    0.320213\n",
      "behavior     0.173449\n",
      "attempt      0.083389\n",
      "Name: proportion, dtype: float64\n"
     ]
    }
   ],
   "source": [
    "import pandas as pd\n",
    "\n",
    "# Load the dataset\n",
    "df = pd.read_csv('non-thinking/predictions/grok-3-mini-latest_calculators_predictions.csv')\n",
    "\n",
    "# Print class proportions\n",
    "proportions = df['predicted_label'].value_counts(normalize=True)\n",
    "print(proportions)"
   ]
  },
  {
   "cell_type": "code",
   "execution_count": 5,
   "id": "740bea99",
   "metadata": {},
   "outputs": [
    {
     "name": "stdout",
     "output_type": "stream",
     "text": [
      "predicted_label\n",
      "ideation     0.413609\n",
      "indicator    0.340894\n",
      "behavior     0.162775\n",
      "attempt      0.082722\n",
      "Name: proportion, dtype: float64\n"
     ]
    }
   ],
   "source": [
    "import pandas as pd\n",
    "\n",
    "# Load the dataset\n",
    "df = pd.read_csv('thinking/predictions/grok-3-mini-latest_calculators_predictions-temp=0.4.csv')\n",
    "\n",
    "# Print class proportions\n",
    "proportions = df['predicted_label'].value_counts(normalize=True)\n",
    "print(proportions)"
   ]
  }
 ],
 "metadata": {
  "kernelspec": {
   "display_name": "pytorch_gpu_env",
   "language": "python",
   "name": "python3"
  },
  "language_info": {
   "codemirror_mode": {
    "name": "ipython",
    "version": 3
   },
   "file_extension": ".py",
   "mimetype": "text/x-python",
   "name": "python",
   "nbconvert_exporter": "python",
   "pygments_lexer": "ipython3",
   "version": "3.12.3"
  }
 },
 "nbformat": 4,
 "nbformat_minor": 5
}
