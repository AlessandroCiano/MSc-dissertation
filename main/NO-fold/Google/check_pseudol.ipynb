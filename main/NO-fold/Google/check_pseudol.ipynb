{
 "cells": [
  {
   "cell_type": "code",
   "execution_count": 1,
   "id": "f90ee608",
   "metadata": {},
   "outputs": [
    {
     "name": "stdout",
     "output_type": "stream",
     "text": [
      "predicted_label\n",
      "ideation                          0.436291\n",
      "indicator                         0.266177\n",
      "behavior                          0.218145\n",
      "attempt                           0.078719\n",
      "API_ERROR_OR_EXTRACTION_FAILED    0.000667\n",
      "Name: proportion, dtype: float64\n"
     ]
    }
   ],
   "source": [
    "import pandas as pd\n",
    "\n",
    "# Load the dataset\n",
    "df = pd.read_csv('non-thinking/pseudolabels/gemini-2.5-flash-preview-05-20_calculators_pseudolabels.csv')\n",
    "\n",
    "# Print class proportions\n",
    "proportions = df['predicted_label'].value_counts(normalize=True)\n",
    "print(proportions)"
   ]
  }
 ],
 "metadata": {
  "kernelspec": {
   "display_name": "pytorch_gpu_env",
   "language": "python",
   "name": "python3"
  },
  "language_info": {
   "codemirror_mode": {
    "name": "ipython",
    "version": 3
   },
   "file_extension": ".py",
   "mimetype": "text/x-python",
   "name": "python",
   "nbconvert_exporter": "python",
   "pygments_lexer": "ipython3",
   "version": "3.12.3"
  }
 },
 "nbformat": 4,
 "nbformat_minor": 5
}
