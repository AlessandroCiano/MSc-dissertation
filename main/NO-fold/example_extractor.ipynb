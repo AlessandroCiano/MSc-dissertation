{
 "cells": [
  {
   "cell_type": "code",
   "execution_count": 4,
   "id": "c41cf912",
   "metadata": {},
   "outputs": [
    {
     "name": "stdout",
     "output_type": "stream",
     "text": [
      "Unique classes found: ['behavior' 'ideation' 'indicator' 'attempt']\n",
      "Examples extracted and saved to prediction_examples_grok.txt\n",
      "Total examples: 4\n",
      "Classes found: ['behavior', 'ideation', 'indicator', 'attempt']\n",
      "Examples extracted and saved to prediction_examples_grok.txt\n",
      "Total examples: 8\n",
      "Classes found: ['behavior', 'ideation', 'indicator', 'attempt']\n",
      "Examples extracted and saved to prediction_examples_grok.txt\n",
      "Total examples: 12\n",
      "Classes found: ['behavior', 'ideation', 'indicator', 'attempt']\n",
      "Examples extracted and saved to prediction_examples_grok.txt\n",
      "Total examples: 16\n",
      "Classes found: ['behavior', 'ideation', 'indicator', 'attempt']\n"
     ]
    }
   ],
   "source": [
    "import pandas as pd\n",
    "import os\n",
    "\n",
    "# Load the CSV file\n",
    "csv_path = r'F:\\VERO UTENTE\\Desktop\\Uni\\dissertation\\main\\NO-fold\\Grok\\thinking\\validation\\grok-3-mini-latest_calculators_results-temp=0.4.csv'\n",
    "df = pd.read_csv(csv_path)\n",
    "\n",
    "# Create a correct prediction column\n",
    "df['correct_prediction'] = df['true_label_str'] == df['predicted_label']\n",
    "\n",
    "\n",
    "# Get unique classes\n",
    "unique_classes = df['true_label_str'].unique()\n",
    "print(\"Unique classes found:\", unique_classes)\n",
    "\n",
    "\n",
    "examples = []\n",
    "    \n",
    "for class_label in unique_classes:\n",
    "    class_data = df[df['true_label_str'] == class_label]\n",
    "    \n",
    "    # Get 1-2 success examples for this class\n",
    "    success_examples = class_data[class_data['correct_prediction'] == True]\n",
    "    if not success_examples.empty:\n",
    "        for i, (_, row) in enumerate(success_examples.head(2).iterrows()):\n",
    "            examples.append(f\"\"\"--- Example Success {i+1} (Class: {class_label}) ---\n",
    "Post: {row['post']}\n",
    "True Label: {row['true_label_str']}\n",
    "Predicted Label: {row['predicted_label']}\n",
    "Model Thinking: {row['predicted_text']}\n",
    "Correct Prediction: True\n",
    "\n",
    "\"\"\")\n",
    "        \n",
    "    # Get 1-2 failure examples for this class\n",
    "    failure_examples = class_data[class_data['correct_prediction'] == False]\n",
    "    if not failure_examples.empty:\n",
    "        for i, (_, row) in enumerate(failure_examples.head(2).iterrows()):\n",
    "            examples.append(f\"\"\"--- Example Failure {i+1} (Class: {class_label}) ---\n",
    "Post: {row['post']}\n",
    "True Label: {row['true_label_str']}\n",
    "Predicted Label: {row['predicted_label']}\n",
    "Model Thinking: {row['predicted_text']}\n",
    "Correct Prediction: False\n",
    "\n",
    "\"\"\")\n",
    "    \n",
    "    # Write to text file\n",
    "    output_file = 'prediction_examples_grok.txt'\n",
    "    with open(output_file, 'w', encoding='utf-8') as f:\n",
    "        f.writelines(examples)\n",
    "    \n",
    "    print(f\"Examples extracted and saved to {output_file}\")\n",
    "    print(f\"Total examples: {len(examples)}\")\n",
    "    print(f\"Classes found: {list(unique_classes)}\")\n"
   ]
  }
 ],
 "metadata": {
  "kernelspec": {
   "display_name": "pytorch_gpu_env",
   "language": "python",
   "name": "python3"
  },
  "language_info": {
   "codemirror_mode": {
    "name": "ipython",
    "version": 3
   },
   "file_extension": ".py",
   "mimetype": "text/x-python",
   "name": "python",
   "nbconvert_exporter": "python",
   "pygments_lexer": "ipython3",
   "version": "3.12.3"
  }
 },
 "nbformat": 4,
 "nbformat_minor": 5
}
