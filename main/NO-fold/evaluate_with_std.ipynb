{
 "cells": [
  {
   "cell_type": "code",
   "execution_count": 1,
   "id": "47d255d2",
   "metadata": {},
   "outputs": [],
   "source": [
    "import pandas as pd\n",
    "import numpy as np\n",
    "from sklearn.metrics import f1_score, accuracy_score\n",
    "\n",
    "\n",
    "#calculate weighed f1 score, macro f1 score, and accuracy with standard deviation using 'true_label_str' and 'predicted_label'\n",
    "def calculate_metrics_with_bootstrap(df, n_bootstrap=1000, random_state=42):\n",
    "    np.random.seed(random_state)\n",
    "    metrics = {'weighted_f1': [], 'macro_f1': [], 'accuracy': []}\n",
    "    for _ in range(n_bootstrap):\n",
    "        sample = df.sample(frac=1, replace=True)\n",
    "        metrics['weighted_f1'].append(f1_score(sample['true_label_str'], sample['predicted_label'], average='weighted'))\n",
    "        metrics['macro_f1'].append(f1_score(sample['true_label_str'], sample['predicted_label'], average='macro'))\n",
    "        metrics['accuracy'].append(accuracy_score(sample['true_label_str'], sample['predicted_label']))\n",
    "    results = {\n",
    "        'weighted_f1': (np.mean(metrics['weighted_f1']), np.std(metrics['weighted_f1'])),\n",
    "        'macro_f1': (np.mean(metrics['macro_f1']), np.std(metrics['macro_f1'])),\n",
    "        'accuracy': (np.mean(metrics['accuracy']), np.std(metrics['accuracy']))\n",
    "    }\n",
    "    return results\n",
    "\n"
   ]
  },
  {
   "cell_type": "markdown",
   "id": "38d20fe6",
   "metadata": {},
   "source": [
    "***BASE PROMPT***"
   ]
  },
  {
   "cell_type": "code",
   "execution_count": 4,
   "id": "f347bc51",
   "metadata": {},
   "outputs": [
    {
     "name": "stderr",
     "output_type": "stream",
     "text": [
      "<>:6: SyntaxWarning: invalid escape sequence '\\p'\n",
      "<>:6: SyntaxWarning: invalid escape sequence '\\p'\n",
      "/tmp/ipykernel_7196/1141194653.py:6: SyntaxWarning: invalid escape sequence '\\p'\n",
      "  print(f\"{metric}: {mean*100:.1f} \\pm {std*100:.1f}\")\n"
     ]
    },
    {
     "name": "stdout",
     "output_type": "stream",
     "text": [
      "weighted_f1: 59.3 \\pm 2.3\n",
      "macro_f1: 62.4 \\pm 2.2\n",
      "accuracy: 60.6 \\pm 2.1\n"
     ]
    }
   ],
   "source": [
    "\n",
    "df = pd.read_csv(r'/home/noxiusk/Desktop/data_science/dissertation/main/NO-fold/Google/non-thinking/validation/gemini-2.5-flash-preview-05-20_base_results-results.csv')\n",
    "# Calculate metrics\n",
    "metrics = calculate_metrics_with_bootstrap(df)\n",
    "# Print results\n",
    "for metric, (mean, std) in metrics.items():\n",
    "    print(f\"{metric}: {mean*100:.1f} \\pm {std*100:.1f}\")\n"
   ]
  },
  {
   "cell_type": "code",
   "execution_count": null,
   "id": "1b8dd622",
   "metadata": {},
   "outputs": [
    {
     "name": "stderr",
     "output_type": "stream",
     "text": [
      "<>:6: SyntaxWarning: invalid escape sequence '\\p'\n",
      "<>:6: SyntaxWarning: invalid escape sequence '\\p'\n",
      "/tmp/ipykernel_7196/2835873590.py:6: SyntaxWarning: invalid escape sequence '\\p'\n",
      "  print(f\"{metric}: {mean*100:.1f} \\pm {std*100:.1f}\")\n"
     ]
    },
    {
     "name": "stdout",
     "output_type": "stream",
     "text": [
      "weighted_f1: 68.1 \\pm 2.1\n",
      "macro_f1: 69.2 \\pm 2.1\n",
      "accuracy: 69.2 \\pm 2.0\n"
     ]
    }
   ],
   "source": [
    "\n",
    "df = pd.read_csv(r'/home/noxiusk/Desktop/data_science/dissertation/main/NO-fold/Google/thinking/validation/gemini-2.5-flash-preview-05-20_base_results-temp=0.5.csv')\n",
    "# Calculate metrics\n",
    "metrics = calculate_metrics_with_bootstrap(df)\n",
    "# Print results\n",
    "for metric, (mean, std) in metrics.items():\n",
    "    print(f\"{metric}: {mean*100:.1f} \\pm {std*100:.1f}\")"
   ]
  },
  {
   "cell_type": "markdown",
   "id": "550185df",
   "metadata": {},
   "source": [
    "***NON THINKING***"
   ]
  },
  {
   "cell_type": "code",
   "execution_count": 14,
   "id": "2f9c746f",
   "metadata": {},
   "outputs": [
    {
     "name": "stdout",
     "output_type": "stream",
     "text": [
      "weighted_f1: 0.6763 ± 0.0210\n",
      "macro_f1: 0.6625 ± 0.0245\n",
      "accuracy: 0.6827 ± 0.0201\n"
     ]
    }
   ],
   "source": [
    "df = pd.read_csv(r'/home/noxiusk/Desktop/data_science/dissertation/main/NO-fold/Google/non-thinking/validation/gemini-2.0-flash-lite_calculators_results.csv')\n",
    "# Calculate metrics\n",
    "metrics = calculate_metrics_with_bootstrap(df)\n",
    "# Print results\n",
    "for metric, (mean, std) in metrics.items():\n",
    "    print(f\"{metric}: {mean:.4f} ± {std:.4f}\")"
   ]
  },
  {
   "cell_type": "code",
   "execution_count": 21,
   "id": "e34de46c",
   "metadata": {},
   "outputs": [
    {
     "name": "stdout",
     "output_type": "stream",
     "text": [
      "weighted_f1: 0.6427 ± 0.0227\n",
      "macro_f1: 0.6279 ± 0.0255\n",
      "accuracy: 0.6610 ± 0.0207\n"
     ]
    }
   ],
   "source": [
    "df = pd.read_csv(r'/home/noxiusk/Desktop/data_science/dissertation/main/NO-fold/Google/non-thinking/validation/gemini-2.0-flash_calculators_results.csv')\n",
    "# Calculate metrics\n",
    "metrics = calculate_metrics_with_bootstrap(df)\n",
    "# Print results\n",
    "for metric, (mean, std) in metrics.items():\n",
    "    print(f\"{metric}: {mean:.4f} ± {std:.4f}\")"
   ]
  },
  {
   "cell_type": "code",
   "execution_count": 20,
   "id": "445da977",
   "metadata": {},
   "outputs": [
    {
     "name": "stdout",
     "output_type": "stream",
     "text": [
      "weighted_f1: 0.7435 ± 0.0202\n",
      "macro_f1: 0.7429 ± 0.0211\n",
      "accuracy: 0.7542 ± 0.0188\n"
     ]
    }
   ],
   "source": [
    "df = pd.read_csv(r'/home/noxiusk/Desktop/data_science/dissertation/main/NO-fold/Google/non-thinking/validation/gemini-2.5-flash-preview-05-20_calculators_results.csv')\n",
    "# Calculate metrics\n",
    "metrics = calculate_metrics_with_bootstrap(df)\n",
    "# Print results\n",
    "for metric, (mean, std) in metrics.items():\n",
    "    print(f\"{metric}: {mean:.4f} ± {std:.4f}\")"
   ]
  },
  {
   "cell_type": "code",
   "execution_count": 15,
   "id": "40ed01dc",
   "metadata": {},
   "outputs": [
    {
     "name": "stdout",
     "output_type": "stream",
     "text": [
      "weighted_f1: 0.7306 ± 0.0209\n",
      "macro_f1: 0.7295 ± 0.0217\n",
      "accuracy: 0.7445 ± 0.0190\n"
     ]
    }
   ],
   "source": [
    "df = pd.read_csv(r'/home/noxiusk/Desktop/data_science/dissertation/main/NO-fold/Google/non-thinking/validation/gemini-2.5-pro_calculators_results.csv')\n",
    "# Calculate metrics\n",
    "metrics = calculate_metrics_with_bootstrap(df)\n",
    "# Print results\n",
    "for metric, (mean, std) in metrics.items():\n",
    "    print(f\"{metric}: {mean:.4f} ± {std:.4f}\")"
   ]
  },
  {
   "cell_type": "code",
   "execution_count": 16,
   "id": "5c506c7b",
   "metadata": {},
   "outputs": [
    {
     "name": "stdout",
     "output_type": "stream",
     "text": [
      "weighted_f1: 0.6457 ± 0.0234\n",
      "macro_f1: 0.6234 ± 0.0268\n",
      "accuracy: 0.6693 ± 0.0208\n"
     ]
    }
   ],
   "source": [
    "df = pd.read_csv(r'/home/noxiusk/Desktop/data_science/dissertation/main/NO-fold/DeepSeek/non-thinking/validation/deepseek-chat_calculators_results.csv')\n",
    "# Calculate metrics\n",
    "metrics = calculate_metrics_with_bootstrap(df)\n",
    "# Print results\n",
    "for metric, (mean, std) in metrics.items():\n",
    "    print(f\"{metric}: {mean:.4f} ± {std:.4f}\")"
   ]
  },
  {
   "cell_type": "code",
   "execution_count": 17,
   "id": "f554f81c",
   "metadata": {},
   "outputs": [
    {
     "name": "stdout",
     "output_type": "stream",
     "text": [
      "weighted_f1: 0.6607 ± 0.0210\n",
      "macro_f1: 0.6555 ± 0.0247\n",
      "accuracy: 0.6608 ± 0.0210\n"
     ]
    }
   ],
   "source": [
    "df = pd.read_csv(r'/home/noxiusk/Desktop/data_science/dissertation/main/NO-fold/DeepSeek/non-thinking/validation/deepseek-reasoner_calculators_results.csv')\n",
    "# Calculate metrics\n",
    "metrics = calculate_metrics_with_bootstrap(df)\n",
    "# Print results\n",
    "for metric, (mean, std) in metrics.items():\n",
    "    print(f\"{metric}: {mean:.4f} ± {std:.4f}\")"
   ]
  },
  {
   "cell_type": "code",
   "execution_count": 18,
   "id": "509a0c8f",
   "metadata": {},
   "outputs": [
    {
     "name": "stdout",
     "output_type": "stream",
     "text": [
      "weighted_f1: 0.7503 ± 0.0199\n",
      "macro_f1: 0.7482 ± 0.0211\n",
      "accuracy: 0.7564 ± 0.0190\n"
     ]
    }
   ],
   "source": [
    "df = pd.read_csv(r'/home/noxiusk/Desktop/data_science/dissertation/main/NO-fold/Grok/non-thinking/validation/grok-3-mini-latest_calculators_results.csv')\n",
    "# Calculate metrics\n",
    "metrics = calculate_metrics_with_bootstrap(df)\n",
    "# Print results\n",
    "for metric, (mean, std) in metrics.items():\n",
    "    print(f\"{metric}: {mean:.4f} ± {std:.4f}\")"
   ]
  },
  {
   "cell_type": "code",
   "execution_count": 19,
   "id": "b10432a0",
   "metadata": {},
   "outputs": [
    {
     "name": "stdout",
     "output_type": "stream",
     "text": [
      "weighted_f1: 0.7143 ± 0.0208\n",
      "macro_f1: 0.6966 ± 0.0243\n",
      "accuracy: 0.7246 ± 0.0195\n"
     ]
    }
   ],
   "source": [
    "df = pd.read_csv(r'/home/noxiusk/Desktop/data_science/dissertation/main/NO-fold/Grok/non-thinking/validation/grok-3-latest_calculators_results.csv')\n",
    "# Calculate metrics\n",
    "metrics = calculate_metrics_with_bootstrap(df)\n",
    "# Print results\n",
    "for metric, (mean, std) in metrics.items():\n",
    "    print(f\"{metric}: {mean:.4f} ± {std:.4f}\")"
   ]
  },
  {
   "cell_type": "markdown",
   "id": "865a80c2",
   "metadata": {},
   "source": [
    "***THINKING***"
   ]
  },
  {
   "cell_type": "code",
   "execution_count": 3,
   "id": "b618c7be",
   "metadata": {},
   "outputs": [
    {
     "name": "stdout",
     "output_type": "stream",
     "text": [
      "weighted_f1: 0.7272 ± 0.0206\n",
      "macro_f1: 0.7273 ± 0.0218\n",
      "accuracy: 0.7339 ± 0.0197\n"
     ]
    }
   ],
   "source": [
    "df = pd.read_csv(r'/home/noxiusk/Desktop/data_science/dissertation/main/NO-fold/Google/thinking/validation/gemini-2.5-flash-preview-05-20_calculators_results-temp=0.5.csv')\n",
    "# Calculate metrics\n",
    "metrics = calculate_metrics_with_bootstrap(df)\n",
    "# Print results\n",
    "for metric, (mean, std) in metrics.items():\n",
    "    print(f\"{metric}: {mean:.4f} ± {std:.4f}\")"
   ]
  },
  {
   "cell_type": "code",
   "execution_count": 4,
   "id": "a61a7067",
   "metadata": {},
   "outputs": [
    {
     "name": "stdout",
     "output_type": "stream",
     "text": [
      "weighted_f1: 0.7135 ± 0.0217\n",
      "macro_f1: 0.6264 ± 0.0719\n",
      "accuracy: 0.7297 ± 0.0197\n"
     ]
    }
   ],
   "source": [
    "df = pd.read_csv(r'/home/noxiusk/Desktop/data_science/dissertation/main/NO-fold/Google/thinking/validation/gemini-2.5-pro-preview-05-06_calculators_results-temp=0.5.csv')\n",
    "# Calculate metrics\n",
    "metrics = calculate_metrics_with_bootstrap(df)\n",
    "# Print results\n",
    "for metric, (mean, std) in metrics.items():\n",
    "    print(f\"{metric}: {mean:.4f} ± {std:.4f}\")"
   ]
  },
  {
   "cell_type": "code",
   "execution_count": 5,
   "id": "68f261d6",
   "metadata": {},
   "outputs": [
    {
     "name": "stdout",
     "output_type": "stream",
     "text": [
      "weighted_f1: 0.7346 ± 0.0199\n",
      "macro_f1: 0.7373 ± 0.0219\n",
      "accuracy: 0.7379 ± 0.0194\n"
     ]
    }
   ],
   "source": [
    "\n",
    "df = pd.read_csv(r'/home/noxiusk/Desktop/data_science/dissertation/main/NO-fold/DeepSeek/thinking/validation/deepseek-reasoner_calculators_results-temp=0.5.csv')\n",
    "# Calculate metrics\n",
    "metrics = calculate_metrics_with_bootstrap(df)\n",
    "# Print results\n",
    "for metric, (mean, std) in metrics.items():\n",
    "    print(f\"{metric}: {mean:.4f} ± {std:.4f}\")"
   ]
  },
  {
   "cell_type": "code",
   "execution_count": 9,
   "id": "47e83f9c",
   "metadata": {},
   "outputs": [
    {
     "name": "stdout",
     "output_type": "stream",
     "text": [
      "weighted_f1: 0.7449 ± 0.0199\n",
      "macro_f1: 0.7394 ± 0.0214\n",
      "accuracy: 0.7477 ± 0.0194\n"
     ]
    }
   ],
   "source": [
    "df = pd.read_csv(r'/home/noxiusk/Desktop/data_science/dissertation/main/NO-fold/Grok/thinking/validation/grok-3-mini-latest_calculators_results-temp=0.4.csv')\n",
    "# Calculate metrics\n",
    "metrics = calculate_metrics_with_bootstrap(df)\n",
    "# Print results\n",
    "for metric, (mean, std) in metrics.items():\n",
    "    print(f\"{metric}: {mean:.4f} ± {std:.4f}\")"
   ]
  },
  {
   "cell_type": "code",
   "execution_count": null,
   "id": "5a8dcb87",
   "metadata": {},
   "outputs": [
    {
     "name": "stdout",
     "output_type": "stream",
     "text": [
      "weighted_f1: 0.7113 ± 0.0210\n",
      "macro_f1: 0.7091 ± 0.0226\n",
      "accuracy: 0.7159 ± 0.0203\n"
     ]
    }
   ],
   "source": [
    "df = pd.read_csv(r'/home/noxiusk/Desktop/data_science/dissertation/main/NO-fold/Grok/thinking/validation/grok-3-latest_calculators_results-temp=0.5.csv')\n",
    "# Calculate metrics\n",
    "metrics = calculate_metrics_with_bootstrap(df)\n",
    "# Print results\n",
    "for metric, (mean, std) in metrics.items():\n",
    "    print(f\"{metric}: {mean:.4f} ± {std:.4f}\")"
   ]
  },
  {
   "cell_type": "markdown",
   "id": "9c245d72",
   "metadata": {},
   "source": [
    "*** ENHANCED ***"
   ]
  },
  {
   "cell_type": "code",
   "execution_count": 7,
   "id": "13ed58ed",
   "metadata": {},
   "outputs": [
    {
     "name": "stdout",
     "output_type": "stream",
     "text": [
      "weighted_f1: 72.1 ± 2.0\n",
      "macro_f1: 71.0 ± 2.2\n",
      "accuracy: 72.4 ± 2.0\n"
     ]
    }
   ],
   "source": [
    "df = pd.read_csv(r'/home/noxiusk/Desktop/data_science/dissertation/main/NO-fold/Google/thinking/validation/gemini-2.5-flash-preview-05-20_calculators_ev_gemini_1.1_results-temp=0.5.csv')\n",
    "# Calculate metrics\n",
    "metrics = calculate_metrics_with_bootstrap(df)\n",
    "# Print results\n",
    "for metric, (mean, std) in metrics.items():\n",
    "    print(f\"{metric}: {mean*100:.1f} ± {std*100:.1f}\")"
   ]
  },
  {
   "cell_type": "code",
   "execution_count": 6,
   "id": "f1a29b32",
   "metadata": {},
   "outputs": [
    {
     "name": "stdout",
     "output_type": "stream",
     "text": [
      "weighted_f1: 71.7 ± 2.0\n",
      "macro_f1: 71.8 ± 2.1\n",
      "accuracy: 72.2 ± 1.9\n"
     ]
    }
   ],
   "source": [
    "df = pd.read_csv(r'/home/noxiusk/Desktop/data_science/dissertation/main/NO-fold/Google/thinking/validation/gemini-2.5-flash-preview-05-20_calculators_ev_gemini_2.0_results-temp=0.5.csv')\n",
    "# Calculate metrics\n",
    "metrics = calculate_metrics_with_bootstrap(df)\n",
    "# Print results\n",
    "for metric, (mean, std) in metrics.items():\n",
    "    print(f\"{metric}: {mean*100:.1f} ± {std*100:.1f}\")"
   ]
  },
  {
   "cell_type": "code",
   "execution_count": 8,
   "id": "dc322024",
   "metadata": {},
   "outputs": [
    {
     "name": "stdout",
     "output_type": "stream",
     "text": [
      "weighted_f1: 77.4 ± 2.0\n",
      "macro_f1: 76.8 ± 2.2\n",
      "accuracy: 77.4 ± 2.0\n"
     ]
    }
   ],
   "source": [
    "df = pd.read_csv(r'/home/noxiusk/Desktop/data_science/dissertation/main/NO-fold/DeepSeek/thinking/validation/deepseek-reasoner_calculators_ev_gemini_1.1_results-temp=0.5.csv')\n",
    "# Calculate metrics\n",
    "metrics = calculate_metrics_with_bootstrap(df)\n",
    "# Print results\n",
    "for metric, (mean, std) in metrics.items():\n",
    "    print(f\"{metric}: {mean*100:.1f} ± {std*100:.1f}\")"
   ]
  },
  {
   "cell_type": "code",
   "execution_count": 10,
   "id": "31fced61",
   "metadata": {},
   "outputs": [
    {
     "name": "stderr",
     "output_type": "stream",
     "text": [
      "<>:6: SyntaxWarning: invalid escape sequence '\\p'\n",
      "<>:6: SyntaxWarning: invalid escape sequence '\\p'\n",
      "/tmp/ipykernel_67080/3711282645.py:6: SyntaxWarning: invalid escape sequence '\\p'\n",
      "  print(f\"{metric}: {mean*100:.1f} \\pm {std*100:.1f}\")\n"
     ]
    },
    {
     "name": "stdout",
     "output_type": "stream",
     "text": [
      "weighted_f1: 76.5 \\pm 1.9\n",
      "macro_f1: 75.5 \\pm 2.2\n",
      "accuracy: 76.4 \\pm 1.9\n"
     ]
    }
   ],
   "source": [
    "df = pd.read_csv(r'/home/noxiusk/Desktop/data_science/dissertation/main/NO-fold/DeepSeek/thinking/validation/deepseek-reasoner_calculators_ev_gemini_2.0_results-temp=0.5.csv')\n",
    "# Calculate metrics\n",
    "metrics = calculate_metrics_with_bootstrap(df)\n",
    "# Print results\n",
    "for metric, (mean, std) in metrics.items():\n",
    "    print(f\"{metric}: {mean*100:.1f} \\pm {std*100:.1f}\")"
   ]
  },
  {
   "cell_type": "code",
   "execution_count": 11,
   "id": "a3b981fb",
   "metadata": {},
   "outputs": [
    {
     "name": "stderr",
     "output_type": "stream",
     "text": [
      "<>:6: SyntaxWarning: invalid escape sequence '\\p'\n",
      "<>:6: SyntaxWarning: invalid escape sequence '\\p'\n",
      "/tmp/ipykernel_67080/1083288006.py:6: SyntaxWarning: invalid escape sequence '\\p'\n",
      "  print(f\"{metric}: {mean*100:.1f} \\pm {std*100:.1f}\")\n"
     ]
    },
    {
     "name": "stdout",
     "output_type": "stream",
     "text": [
      "weighted_f1: 74.3 \\pm 2.0\n",
      "macro_f1: 74.1 \\pm 2.1\n",
      "accuracy: 74.6 \\pm 2.0\n"
     ]
    }
   ],
   "source": [
    "\n",
    "\n",
    "df = pd.read_csv(r'/home/noxiusk/Desktop/data_science/dissertation/main/NO-fold/Grok/thinking/validation/grok-3-mini-latest_grok3_from_grok3_1-0_results-temp=0.4.csv')\n",
    "# Calculate metrics\n",
    "metrics = calculate_metrics_with_bootstrap(df)\n",
    "# Print results\n",
    "for metric, (mean, std) in metrics.items():\n",
    "    print(f\"{metric}: {mean*100:.1f} \\pm {std*100:.1f}\")"
   ]
  },
  {
   "cell_type": "code",
   "execution_count": 26,
   "id": "cb006d39",
   "metadata": {},
   "outputs": [
    {
     "name": "stdout",
     "output_type": "stream",
     "text": [
      "0.2706359945872801\n"
     ]
    }
   ],
   "source": [
    "print((0.2/73.9)*100)"
   ]
  }
 ],
 "metadata": {
  "kernelspec": {
   "display_name": "mlp",
   "language": "python",
   "name": "python3"
  },
  "language_info": {
   "codemirror_mode": {
    "name": "ipython",
    "version": 3
   },
   "file_extension": ".py",
   "mimetype": "text/x-python",
   "name": "python",
   "nbconvert_exporter": "python",
   "pygments_lexer": "ipython3",
   "version": "3.12.5"
  }
 },
 "nbformat": 4,
 "nbformat_minor": 5
}
