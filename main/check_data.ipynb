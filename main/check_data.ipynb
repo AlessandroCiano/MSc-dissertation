{
 "cells": [
  {
   "cell_type": "code",
   "execution_count": 2,
   "id": "ddef4f5e",
   "metadata": {},
   "outputs": [
    {
     "name": "stdout",
     "output_type": "stream",
     "text": [
      "Proportions:\n",
      "post_risk\n",
      "ideation     0.400\n",
      "behavior     0.264\n",
      "indicator    0.258\n",
      "attempt      0.078\n",
      "Name: proportion, dtype: float64\n",
      "\n",
      "Counts:\n",
      "post_risk\n",
      "ideation     200\n",
      "behavior     132\n",
      "indicator    129\n",
      "attempt       39\n",
      "Name: count, dtype: int64\n"
     ]
    }
   ],
   "source": [
    "import pandas as pd\n",
    "\n",
    "# Load the dataset\n",
    "df = pd.read_csv(r'data/posts_with_labels.csv')\n",
    "\n",
    "# Print class proportions\n",
    "proportions = df['post_risk'].value_counts(normalize=True)\n",
    "counts = df['post_risk'].value_counts()\n",
    "\n",
    "print(\"Proportions:\")\n",
    "print(proportions)\n",
    "print(\"\\nCounts:\")\n",
    "print(counts)"
   ]
  },
  {
   "cell_type": "code",
   "execution_count": 2,
   "id": "ab86e029",
   "metadata": {},
   "outputs": [
    {
     "name": "stdout",
     "output_type": "stream",
     "text": [
      "Proportions:\n",
      "post_risk\n",
      "ideation     0.38\n",
      "behavior     0.28\n",
      "indicator    0.26\n",
      "attempt      0.08\n",
      "Name: proportion, dtype: float64\n",
      "\n",
      "Counts:\n",
      "post_risk\n",
      "ideation     38\n",
      "behavior     28\n",
      "indicator    26\n",
      "attempt       8\n",
      "Name: count, dtype: int64\n"
     ]
    }
   ],
   "source": [
    "import pandas as pd\n",
    "\n",
    "# Load the dataset\n",
    "df = pd.read_csv(r'data/test_set.csv')\n",
    "\n",
    "# Print class proportions\n",
    "proportions = df['post_risk'].value_counts(normalize=True)\n",
    "counts = df['post_risk'].value_counts()\n",
    "\n",
    "print(\"Proportions:\")\n",
    "print(proportions)\n",
    "print(\"\\nCounts:\")\n",
    "print(counts)"
   ]
  },
  {
   "cell_type": "code",
   "execution_count": 1,
   "id": "93b79080",
   "metadata": {},
   "outputs": [
    {
     "name": "stdout",
     "output_type": "stream",
     "text": [
      "Proportions:\n",
      "post_risk\n",
      "ideation     0.400000\n",
      "behavior     0.333333\n",
      "indicator    0.200000\n",
      "attempt      0.066667\n",
      "Name: proportion, dtype: float64\n",
      "\n",
      "Counts:\n",
      "post_risk\n",
      "ideation     12\n",
      "behavior     10\n",
      "indicator     6\n",
      "attempt       2\n",
      "Name: count, dtype: int64\n"
     ]
    }
   ],
   "source": [
    "import pandas as pd\n",
    "\n",
    "# Load the dataset\n",
    "df = pd.read_csv(r'data/test_set_30reduced.csv')\n",
    "\n",
    "# Print class proportions\n",
    "proportions = df['post_risk'].value_counts(normalize=True)\n",
    "counts = df['post_risk'].value_counts()\n",
    "\n",
    "print(\"Proportions:\")\n",
    "print(proportions)\n",
    "print(\"\\nCounts:\")\n",
    "print(counts)"
   ]
  }
 ],
 "metadata": {
  "kernelspec": {
   "display_name": "pytorch_gpu_env",
   "language": "python",
   "name": "python3"
  },
  "language_info": {
   "codemirror_mode": {
    "name": "ipython",
    "version": 3
   },
   "file_extension": ".py",
   "mimetype": "text/x-python",
   "name": "python",
   "nbconvert_exporter": "python",
   "pygments_lexer": "ipython3",
   "version": "3.12.3"
  }
 },
 "nbformat": 4,
 "nbformat_minor": 5
}
